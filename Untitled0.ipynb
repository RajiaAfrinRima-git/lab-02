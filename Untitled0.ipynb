{
  "nbformat": 4,
  "nbformat_minor": 0,
  "metadata": {
    "colab": {
      "provenance": [],
      "authorship_tag": "ABX9TyOo4AvfXXNt1CPaGnON8z2F",
      "include_colab_link": true
    },
    "kernelspec": {
      "name": "python3",
      "display_name": "Python 3"
    },
    "language_info": {
      "name": "python"
    }
  },
  "cells": [
    {
      "cell_type": "markdown",
      "metadata": {
        "id": "view-in-github",
        "colab_type": "text"
      },
      "source": [
        "<a href=\"https://colab.research.google.com/github/RajiaAfrinRima-git/lab-02/blob/main/Untitled0.ipynb\" target=\"_parent\"><img src=\"https://colab.research.google.com/assets/colab-badge.svg\" alt=\"Open In Colab\"/></a>"
      ]
    },
    {
      "cell_type": "code",
      "execution_count": 1,
      "metadata": {
        "colab": {
          "base_uri": "https://localhost:8080/"
        },
        "id": "Rh4CdeLWYsSl",
        "outputId": "2343024d-0475-46a6-a7cf-de68ec083ddf"
      },
      "outputs": [
        {
          "output_type": "stream",
          "name": "stdout",
          "text": [
            "\n",
            "Scenario 1:\n",
            "Current Price: 500\n",
            "Stock Level: 20\n",
            "Decision: No order needed.\n",
            "\n",
            "Scenario 2:\n",
            "Current Price: 600\n",
            "Stock Level: 8\n",
            "Decision: Order 10 units.\n",
            "\n",
            "Scenario 3:\n",
            "Current Price: 600\n",
            "Stock Level: 25\n",
            "Decision: No order needed.\n",
            "\n",
            "Scenario 4:\n",
            "Current Price: 500\n",
            "Stock Level: 5\n",
            "Decision: Order 10 units.\n"
          ]
        }
      ],
      "source": [
        "# Smartphone Inventory Management Trading Agent\n",
        "\n",
        "# Parameters\n",
        "average_price = 600  # Average price of the smartphone model\n",
        "price_discount_threshold = 0.8 * average_price  # 20% discount threshold\n",
        "critical_stock_level = 10  # Minimum stock level to trigger immediate order\n",
        "minimum_order_quantity = 10  # Minimum units to restock\n",
        "regular_order_quantity = 15  # Quantity to order during discounts\n",
        "\n",
        "# Function to determine order quantity\n",
        "def decide_order(current_price, amount_in_stock):\n",
        "    \"\"\"\n",
        "    Determines the quantity of smartphones to order based on price and stock levels.\n",
        "\n",
        "    Parameters:\n",
        "        current_price (float): Current price of the smartphone model.\n",
        "        amount_in_stock (int): Current stock level of the smartphone model.\n",
        "\n",
        "    Returns:\n",
        "        int: The quantity to order (tobuy).\n",
        "    \"\"\"\n",
        "    if current_price <= price_discount_threshold:  # Price is discounted\n",
        "        if amount_in_stock < critical_stock_level:  # Stock is critically low\n",
        "            return minimum_order_quantity\n",
        "        else:  # Stock is not critically low\n",
        "            return regular_order_quantity\n",
        "    elif amount_in_stock < critical_stock_level:  # Stock is critically low\n",
        "        return minimum_order_quantity\n",
        "    else:  # No action needed\n",
        "        return 0\n",
        "\n",
        "# Simulate agent's decision-making process\n",
        "def simulate_agent(current_price, amount_in_stock):\n",
        "    \"\"\"\n",
        "    Simulates the agent's decision-making process and prints the result.\n",
        "\n",
        "    Parameters:\n",
        "        current_price (float): Current price of the smartphone model.\n",
        "        amount_in_stock (int): Current stock level of the smartphone model.\n",
        "    \"\"\"\n",
        "    print(f\"Current Price: {current_price}\")\n",
        "    print(f\"Stock Level: {amount_in_stock}\")\n",
        "\n",
        "    tobuy = decide_order(current_price, amount_in_stock)\n",
        "    if tobuy > 0:\n",
        "        print(f\"Decision: Order {tobuy} units.\")\n",
        "    else:\n",
        "        print(\"Decision: No order needed.\")\n",
        "\n",
        "# Example Scenarios\n",
        "scenarios = [\n",
        "    {\"current_price\": 500, \"amount_in_stock\": 20},  # Price Drop & Adequate Stock\n",
        "    {\"current_price\": 600, \"amount_in_stock\": 8},   # Price Stable & Critical Stock\n",
        "    {\"current_price\": 600, \"amount_in_stock\": 25},  # Price Stable & Adequate Stock\n",
        "    {\"current_price\": 500, \"amount_in_stock\": 5},   # Price Drop & Critical Stock\n",
        "]\n",
        "\n",
        "# Run scenarios\n",
        "for i, scenario in enumerate(scenarios, start=1):\n",
        "    print(f\"\\nScenario {i}:\")\n",
        "    simulate_agent(scenario[\"current_price\"], scenario[\"amount_in_stock\"])\n"
      ]
    }
  ]
}